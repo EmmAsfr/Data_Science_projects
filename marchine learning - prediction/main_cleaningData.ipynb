{
 "cells": [
  {
   "cell_type": "code",
   "execution_count": 1,
   "metadata": {},
   "outputs": [
    {
     "name": "stdout",
     "output_type": "stream",
     "text": [
      "Setup complete\n"
     ]
    }
   ],
   "source": [
    "import pandas as pd\n",
    "print(\"Setup complete\")"
   ]
  },
  {
   "cell_type": "code",
   "execution_count": 2,
   "metadata": {},
   "outputs": [
    {
     "data": {
      "text/plain": [
       "Index(['1stFlrSF', '2ndFlrSF', '3SsnPorch', 'Alley', 'BedroomAbvGr',\n",
       "       'BldgType', 'BsmtCond', 'BsmtExposure', 'BsmtFinSF1', 'BsmtFinSF2',\n",
       "       'BsmtFinType1', 'BsmtFinType2', 'BsmtFullBath', 'BsmtHalfBath',\n",
       "       'BsmtQual', 'BsmtUnfSF', 'CentralAir', 'Condition1', 'Condition2',\n",
       "       'Electrical', 'EnclosedPorch', 'ExterCond', 'ExterQual', 'Exterior1st',\n",
       "       'Exterior2nd', 'Fence', 'FireplaceQu', 'Fireplaces', 'Foundation',\n",
       "       'FullBath', 'Functional', 'GarageArea', 'GarageCars', 'GarageCond',\n",
       "       'GarageFinish', 'GarageQual', 'GarageType', 'GarageYrBlt', 'GrLivArea',\n",
       "       'HalfBath', 'Heating', 'HeatingQC', 'HouseStyle', 'Id', 'KitchenAbvGr',\n",
       "       'KitchenQual', 'LandContour', 'LandSlope', 'LotArea', 'LotConfig',\n",
       "       'LotFrontage', 'LotShape', 'LowQualFinSF', 'MSSubClass', 'MSZoning',\n",
       "       'MasVnrArea', 'MasVnrType', 'MiscFeature', 'MiscVal', 'MoSold',\n",
       "       'Neighborhood', 'OpenPorchSF', 'OverallCond', 'OverallQual',\n",
       "       'PavedDrive', 'PoolArea', 'PoolQC', 'RoofMatl', 'RoofStyle',\n",
       "       'SaleCondition', 'SalePrice', 'SaleType', 'ScreenPorch', 'Street',\n",
       "       'TotRmsAbvGrd', 'TotalBsmtSF', 'Utilities', 'WoodDeckSF', 'YearBuilt',\n",
       "       'YearRemodAdd', 'YrSold'],\n",
       "      dtype='object')"
      ]
     },
     "execution_count": 2,
     "metadata": {},
     "output_type": "execute_result"
    }
   ],
   "source": [
    "df = pd.read_csv(\"train.csv\")\n",
    "df.columns.sort_values()"
   ]
  },
  {
   "cell_type": "code",
   "execution_count": 14,
   "metadata": {},
   "outputs": [],
   "source": [
    "numeric_df = df.select_dtypes(include=['number']).reset_index(drop=True)"
   ]
  },
  {
   "cell_type": "markdown",
   "metadata": {},
   "source": []
  },
  {
   "cell_type": "code",
   "execution_count": 13,
   "metadata": {},
   "outputs": [],
   "source": [
    "numeric_df.to_csv('C:/Users/Emmanuel Assohou/Documents/Coding/repository 2 - Data science files (private)/marchine learning - prediction/csv files/csv_workfile.csv', index=False)"
   ]
  },
  {
   "cell_type": "code",
   "execution_count": 26,
   "metadata": {},
   "outputs": [],
   "source": [
    "working_df = pd.read_csv(\"C:/Users/Emmanuel Assohou/Documents/Coding/repository 2 - Data science files (private)/marchine learning - prediction/csv files/csv_workfile.csv\")\n",
    "dict_ = {\n",
    "    \"Id\":'Id',\n",
    "    'MSSubClass':'Identifies the type of dwelling involved in the sale.',\n",
    "    'LotFrontage' : 'Linear feet of street connected to property',\n",
    "    'LotArea' : 'Lot size in square feet', \n",
    "    'OverallQual':'Rates the overall material and finish of the house',\n",
    "    'OverallCond':'Rates the overall condition of the house', \n",
    "    'YearBuilt':'Original construction date', \n",
    "    'YearRemodAdd':'Remodel date (same as construction date if no remodeling or additions)', 'MasVnrArea':'Masonry veneer area in square feet', \n",
    "    'BsmtFinSF1':'Type 1 finished square feet',\n",
    "    'BsmtFinSF2':'Rating of basement finished area (if multiple types)', \n",
    "    'BsmtUnfSF':' Unfinished square feet of basement area', \n",
    "    'TotalBsmtSF':'Total square feet of basement area', \n",
    "    '1stFlrSF':'First Floor square feet', \n",
    "    '2ndFlrSF':'Second floor square feet',\n",
    "    'LowQualFinSF':'Low quality finished square feet (all floors)', \n",
    "    'GrLivArea':'Above grade (ground) living area square feet', \n",
    "    'BsmtFullBath':'Basement full bathrooms', \n",
    "    'BsmtHalfBath':'Basement half bathrooms', \n",
    "    'FullBath':'Full bathrooms above grade',\n",
    "    'HalfBath':'Half baths above grade', \n",
    "    'BedroomAbvGr':'', \n",
    "    'KitchenAbvGr':'', \n",
    "    'TotRmsAbvGrd':'Total rooms above grade (does not include bathrooms)',\n",
    "    'Fireplaces':'Number of fireplaces', \n",
    "    'GarageYrBlt':'Year garage was built', \n",
    "    'GarageCars':'Size of garage in car capacity', \n",
    "    'GarageArea':'Size of garage in square feet', \n",
    "    'WoodDeckSF':'Wood deck area in square feet',\n",
    "    'OpenPorchSF':'Open porch area in square feet', \n",
    "    'EnclosedPorch':'Enclosed porch area in square feet', \n",
    "    '3SsnPorch':'Three season porch area in square feet', \n",
    "    'ScreenPorch':'Screen porch area in square feet', \n",
    "    'PoolArea':'Pool area in square feet',\n",
    "    'MiscVal':'$Value of miscellaneous feature', \n",
    "    'MoSold':'Month Sold (MM)', \n",
    "    'YrSold':'Year Sold (YYYY)', \n",
    "    'SalePrice':'Type of sale'\n",
    "\n",
    "}\n",
    "working_df.columns = pd.MultiIndex.from_tuples([(col, dict_[col]) for col in working_df.columns])\n",
    "d = working_df.T.reset_index()\n",
    "d.to_csv('C:/Users/Emmanuel Assohou/Documents/Coding/repository 2 - Data science files (private)/marchine learning - prediction/csv files/cleaning_data.csv', index=False)"
   ]
  },
  {
   "cell_type": "code",
   "execution_count": null,
   "metadata": {},
   "outputs": [],
   "source": []
  }
 ],
 "metadata": {
  "kernelspec": {
   "display_name": "Python 3",
   "language": "python",
   "name": "python3"
  },
  "language_info": {
   "codemirror_mode": {
    "name": "ipython",
    "version": 3
   },
   "file_extension": ".py",
   "mimetype": "text/x-python",
   "name": "python",
   "nbconvert_exporter": "python",
   "pygments_lexer": "ipython3",
   "version": "3.10.2"
  },
  "orig_nbformat": 4
 },
 "nbformat": 4,
 "nbformat_minor": 2
}
