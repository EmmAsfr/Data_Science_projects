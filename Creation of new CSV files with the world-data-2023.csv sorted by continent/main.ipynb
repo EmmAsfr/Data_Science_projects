{
 "cells": [
  {
   "cell_type": "code",
   "execution_count": 4,
   "metadata": {},
   "outputs": [
    {
     "name": "stdout",
     "output_type": "stream",
     "text": [
      "Setup complete\n"
     ]
    }
   ],
   "source": [
    "import pandas as pd\n",
    "from pathlib import Path\n",
    "import awoc\n",
    "from pprint import pprint\n",
    "print(\"Setup complete\")"
   ]
  },
  {
   "cell_type": "code",
   "execution_count": 5,
   "metadata": {},
   "outputs": [
    {
     "name": "stdout",
     "output_type": "stream",
     "text": [
      "<class 'pandas.core.frame.DataFrame'>\n",
      "Index: 189 entries, 96 to 20\n",
      "Data columns (total 17 columns):\n",
      " #   Column                                     Non-Null Count  Dtype  \n",
      "---  ------                                     --------------  -----  \n",
      " 0   Country                                    189 non-null    object \n",
      " 1   Abbreviation                               186 non-null    object \n",
      " 2   Agricultural Land( %)                      185 non-null    float64\n",
      " 3   Birth Rate                                 186 non-null    float64\n",
      " 4   Fertility Rate                             185 non-null    float64\n",
      " 5   Gasoline Price                             174 non-null    object \n",
      " 6   GDP                                        189 non-null    float64\n",
      " 7   Infant mortality                           186 non-null    float64\n",
      " 8   Life expectancy                            184 non-null    float64\n",
      " 9   Maternal mortality ratio                   178 non-null    float64\n",
      " 10  Minimum wage                               149 non-null    float64\n",
      " 11  Population                                 189 non-null    float64\n",
      " 12  Population: Labor force participation (%)  174 non-null    object \n",
      " 13  Total tax rate                             180 non-null    object \n",
      " 14  Unemployment rate                          174 non-null    float64\n",
      " 15  Urban_population                           187 non-null    float64\n",
      " 16  Continent                                  189 non-null    object \n",
      "dtypes: float64(11), object(6)\n",
      "memory usage: 26.6+ KB\n"
     ]
    }
   ],
   "source": [
    "#Loading csv file\n",
    "df = pd.read_csv(\"C:\\Program Files\\Git\\My-python-projects\\project 1\\world-data-2023.csv\")\n",
    "\n",
    "#Creation of a folder for all the CSV files that will be created throughout the code\n",
    "file_dir = Path(\"C:\\Program Files\\Git\\My-python-projects\\project 1\\Creation of new CSV files with the world-data-2023.csv sorted by continent\") / \"CSV Folder\"\n",
    "file_dir.mkdir(exist_ok=True)\n",
    "\n",
    "\n",
    "df[df[\"Country\"].str.startswith(\"The\")] #Identify the extra charaters\n",
    "df[\"Country\"] = df[\"Country\"].str.replace('The\\s+','',regex=True) #Removing the extra charaters\n",
    "df[\"Country\"] = df[\"Country\"].str.replace('Eswatini','Swaziland',regex=True)\n",
    "new_df = df[~df['Country'].isin(['Vatican City', 'Republic of Ireland', 'Federated States of Micronesia', \"North Macedonia\",\"Palestinian National Authority\",\"S�����������\"])] #Creation of a new data frame without those values in it\n",
    "\n",
    "data_frame = new_df.copy() #Making a copy of the data frame\n",
    "\n",
    "#Crating a dictionnary that associates each country of the new data frame to his continent\n",
    "dict_list = {}\n",
    "my_world = awoc.AWOC()\n",
    "for each_country in new_df[\"Country\"]:\n",
    "    dict_list[each_country] = my_world.get_country_data(each_country)['Continent Name']\n",
    "\n",
    "data_frame['Continent'] = data_frame['Country'].map(dict_list) #Mapping the Country column with Continent one\n",
    "\n",
    "data_frame_sorted = data_frame.sort_values([\"Continent\"])\n",
    "#Remove unuseful values to the data frame\n",
    "data_frame_sorted.drop([\"Calling Code\", \"Capital/Major City\", \"Land Area(Km2)\", \"Armed Forces size\", \"Physicians per thousand\", \"Latitude\", \"Longitude\", \"Out of pocket health expenditure\", \"Largest city\", \"Co2-Emissions\", \"CPI\", 'CPI Change (%)', 'Currency-Code', \"Gross primary education enrollment (%)\", 'Gross tertiary education enrollment (%)', 'Official language', 'Forested Area (%)', 'Tax revenue (%)', \"Density\\r\\n(P/Km2)\"], axis=1, inplace=True)\n",
    "\n",
    "#Creating CSV files for each continent with all the countries include in this continent\n",
    "for each_continent in my_world.get_continents_list():\n",
    "    data_frame_sorted[data_frame_sorted['Continent'] == each_continent].sort_values(['Country']).to_csv(file_dir/f\"{each_continent}.csv\", index=False)\n",
    "\n",
    "#Removing special characters in the values and convert them to float numbers\n",
    "data_frame_sorted['Population'] = data_frame_sorted['Population'].str.replace(',','').astype(float)\n",
    "data_frame_sorted['Urban_population'] = data_frame_sorted['Urban_population'].str.replace(',','').astype(float)\n",
    "data_frame_sorted[\"GDP\"] = data_frame_sorted[\"GDP\"].str.replace('[\\$,]', '', regex=True).astype(float)\n",
    "data_frame_sorted[\"Minimum wage\"] = data_frame_sorted['Minimum wage'].str.replace('$','').astype(float)\n",
    "data_frame_sorted[\"Unemployment rate\"] = data_frame_sorted[\"Unemployment rate\"].str.replace('%', '', regex=True).astype(float)\n",
    "data_frame_sorted[\"Agricultural Land( %)\"] = data_frame_sorted[\"Agricultural Land( %)\"].str.replace('%','', regex=True).astype(float)\n",
    "\n",
    "aggregation_functions = {'GDP':'sum', \n",
    "                         'Population':'sum',\n",
    "                         'Agricultural Land( %)':'mean',\n",
    "                         'Birth Rate':'mean',\n",
    "                         'Infant mortality':'mean', \n",
    "                         'Life expectancy':'mean', \n",
    "                         'Minimum wage':'mean',\n",
    "                         'Unemployment rate':'mean', \n",
    "                         'Urban_population':'sum'\n",
    "                         }\n",
    "data_frame_groupped = data_frame_sorted.groupby(['Continent']).agg(aggregation_functions).round(2).reset_index()\n",
    "data_frame_groupped.rename(columns={'Birth Rate':'Birth Rate_mean', \"Infant mortality\":'Infant mortality_mean', 'Life expectancy':'Life expectancy_mean', 'Population':'Population_sum', 'Urban_population':\"Urban_population_sum\", 'GDP':'GDP_sum ($)', \"Minimum wage\":\"Minimum wage_mean ($)\", 'Unemployment rate':'Unemployment rate_mean (%)', 'Agricultural Land( %)':'Agricultural Land( %)_mean (%)'})\n",
    "data_frame_groupped_transpose = data_frame_groupped.T.reset_index()\n",
    "data_frame_groupped_transpose.to_csv(file_dir/'Summarized_data.csv', index=False)\n",
    "data_frame_sorted.info()"
   ]
  }
 ],
 "metadata": {
  "kernelspec": {
   "display_name": "Python 3",
   "language": "python",
   "name": "python3"
  },
  "language_info": {
   "codemirror_mode": {
    "name": "ipython",
    "version": 3
   },
   "file_extension": ".py",
   "mimetype": "text/x-python",
   "name": "python",
   "nbconvert_exporter": "python",
   "pygments_lexer": "ipython3",
   "version": "3.10.2"
  },
  "orig_nbformat": 4
 },
 "nbformat": 4,
 "nbformat_minor": 2
}
